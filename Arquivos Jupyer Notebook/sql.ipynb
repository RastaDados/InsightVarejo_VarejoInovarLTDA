{
 "cells": [
  {
   "cell_type": "markdown",
   "id": "29c2b1e7",
   "metadata": {},
   "source": [
    "## Querys em SQL"
   ]
  },
  {
   "cell_type": "markdown",
   "id": "8a58e28f",
   "metadata": {},
   "source": [
    "### Conectando ao DataWarehouse"
   ]
  },
  {
   "cell_type": "code",
   "execution_count": null,
   "id": "1ff1e8cd",
   "metadata": {},
   "outputs": [],
   "source": [
    "import pyodbc\n",
    "import pandas as pd\n",
    "import warnings\n",
    "warnings.filterwarnings(\"ignore\")\n",
    "\n",
    "#Configurando a conexão com o SQL Server (via atuenticação do Windows, pois já estou conectado como localhost)\n",
    "conn = pyodbc.connect('DRIVER={ODBC Driver 17 for SQL Server};'\n",
    "                      'SERVER=DESKTOP-U623P07;'\n",
    "                      'DATABASE=vendas_demanda_dw;'\n",
    "                      'Trusted_Connection=yes;')\n",
    "\n",
    "#Função para executar consultas e retornar um dataframe\n",
    "def run_query(query):\n",
    "    return pd.read_sql(query, conn)"
   ]
  },
  {
   "cell_type": "markdown",
   "id": "abdb26c1",
   "metadata": {},
   "source": [
    "### Análise Geral de Vendas"
   ]
  },
  {
   "cell_type": "markdown",
   "id": "42d0ea89",
   "metadata": {},
   "source": [
    "#### Vendas Totais por Período"
   ]
  },
  {
   "cell_type": "code",
   "execution_count": 23,
   "id": "62b4f9cf",
   "metadata": {},
   "outputs": [
    {
     "name": "stdout",
     "output_type": "stream",
     "text": [
      "     data_venda  valor_total_vendas\n",
      "0    2023-07-09            11945.50\n",
      "1    2023-07-10            17276.72\n",
      "2    2023-07-11            14191.39\n",
      "3    2023-07-12            20556.06\n",
      "4    2023-07-13            28896.07\n",
      "..          ...                 ...\n",
      "725  2025-07-03            36521.48\n",
      "726  2025-07-04            11795.98\n",
      "727  2025-07-05            15444.42\n",
      "728  2025-07-06            23964.73\n",
      "729  2025-07-07            23372.13\n",
      "\n",
      "[730 rows x 2 columns]\n"
     ]
    }
   ],
   "source": [
    "query_vendas_periodo = \"\"\"\n",
    "SELECT \n",
    "    t.data_venda,\n",
    "    SUM(f.valor_total) AS valor_total_vendas\n",
    "FROM fato_vendas f\n",
    "JOIN dim_tempo t ON f.data_venda = t.data_venda\n",
    "GROUP BY t.data_venda\n",
    "ORDER BY t.data_venda\n",
    "\"\"\"\n",
    "\n",
    "df_vendas_periodo = run_query(query_vendas_periodo)\n",
    "print(df_vendas_periodo)"
   ]
  },
  {
   "cell_type": "markdown",
   "id": "b70caf9c",
   "metadata": {},
   "source": [
    "#### Vendas por Categoria de Produto"
   ]
  },
  {
   "cell_type": "code",
   "execution_count": 24,
   "id": "d1dc2bfb",
   "metadata": {},
   "outputs": [
    {
     "name": "stdout",
     "output_type": "stream",
     "text": [
      "  categoria_produto  valor_total_vendas\n",
      "0       Eletrônicos          1903371.42\n",
      "1         Alimentos          1771121.29\n",
      "2            Beleza          1763889.39\n",
      "3            Livros          1731970.92\n",
      "4          Esportes          1727323.61\n",
      "5        Brinquedos          1587731.73\n",
      "6              Casa          1556884.46\n",
      "7            Roupas          1540870.71\n"
     ]
    }
   ],
   "source": [
    "query_vendas_categoria = \"\"\"\n",
    "SELECT \n",
    "    p.categoria_produto,\n",
    "    SUM(f.valor_total) AS valor_total_vendas\n",
    "FROM fato_vendas f\n",
    "JOIN dim_produto p ON f.produto_id = p.produto_id\n",
    "GROUP BY p.categoria_produto\n",
    "ORDER BY valor_total_vendas DESC\n",
    "\"\"\"\n",
    "\n",
    "df_vendas_categoria = run_query(query_vendas_categoria)\n",
    "print(df_vendas_categoria)"
   ]
  },
  {
   "cell_type": "markdown",
   "id": "1a95ea31",
   "metadata": {},
   "source": [
    "### Análise de Clientes"
   ]
  },
  {
   "cell_type": "markdown",
   "id": "b6b8693c",
   "metadata": {},
   "source": [
    "#### Distribuição de Clientes por Gênero"
   ]
  },
  {
   "cell_type": "code",
   "execution_count": 25,
   "id": "ce7766e7",
   "metadata": {},
   "outputs": [
    {
     "name": "stdout",
     "output_type": "stream",
     "text": [
      "  genero  numero_clientes\n",
      "0      F              184\n",
      "1  Outro              169\n",
      "2      M              147\n"
     ]
    }
   ],
   "source": [
    "query_clientes_genero = \"\"\"\n",
    "SELECT \n",
    "    c.genero,\n",
    "    COUNT(*) AS numero_clientes\n",
    "FROM dim_cliente c\n",
    "GROUP BY c.genero\n",
    "ORDER BY numero_clientes DESC\n",
    "\"\"\"\n",
    "\n",
    "df_clientes_genero = run_query(query_clientes_genero)\n",
    "print(df_clientes_genero)"
   ]
  },
  {
   "cell_type": "markdown",
   "id": "3efdcd47",
   "metadata": {},
   "source": [
    "#### Clientes por Faixa Etária"
   ]
  },
  {
   "cell_type": "code",
   "execution_count": 26,
   "id": "18f8f290",
   "metadata": {},
   "outputs": [
    {
     "name": "stdout",
     "output_type": "stream",
     "text": [
      "  faixa_etaria  numero_clientes\n",
      "0        18-24               56\n",
      "1        25-34               75\n",
      "2        35-44               91\n",
      "3        45-54               72\n",
      "4        55-64               70\n",
      "5          65+              136\n"
     ]
    }
   ],
   "source": [
    "query_clientes_idade = \"\"\"\n",
    "SELECT \n",
    "    CASE \n",
    "        WHEN c.idade < 18 THEN 'Menor de 18'\n",
    "        WHEN c.idade BETWEEN 18 AND 24 THEN '18-24'\n",
    "        WHEN c.idade BETWEEN 25 AND 34 THEN '25-34'\n",
    "        WHEN c.idade BETWEEN 35 AND 44 THEN '35-44'\n",
    "        WHEN c.idade BETWEEN 45 AND 54 THEN '45-54'\n",
    "        WHEN c.idade BETWEEN 55 AND 64 THEN '55-64'\n",
    "        ELSE '65+'\n",
    "    END AS faixa_etaria,\n",
    "    COUNT(*) AS numero_clientes\n",
    "FROM dim_cliente c\n",
    "GROUP BY \n",
    "    CASE \n",
    "        WHEN c.idade < 18 THEN 'Menor de 18'\n",
    "        WHEN c.idade BETWEEN 18 AND 24 THEN '18-24'\n",
    "        WHEN c.idade BETWEEN 25 AND 34 THEN '25-34'\n",
    "        WHEN c.idade BETWEEN 35 AND 44 THEN '35-44'\n",
    "        WHEN c.idade BETWEEN 45 AND 54 THEN '45-54'\n",
    "        WHEN c.idade BETWEEN 55 AND 64 THEN '55-64'\n",
    "        ELSE '65+'\n",
    "    END\n",
    "ORDER BY faixa_etaria\n",
    "\"\"\"\n",
    "\n",
    "df_clientes_idade = run_query(query_clientes_idade)\n",
    "print(df_clientes_idade)"
   ]
  },
  {
   "cell_type": "markdown",
   "id": "0d2c55dd",
   "metadata": {},
   "source": [
    "#### Clientes Ativos vs Inativos"
   ]
  },
  {
   "cell_type": "code",
   "execution_count": 27,
   "id": "24139e6b",
   "metadata": {},
   "outputs": [
    {
     "name": "stdout",
     "output_type": "stream",
     "text": [
      "  status_cliente  numero_clientes\n",
      "0          Ativo               11\n",
      "1        Inativo              489\n"
     ]
    }
   ],
   "source": [
    "query_clientes_ativos = \"\"\"\n",
    "SELECT \n",
    "    CASE \n",
    "        WHEN DATEDIFF(DAY, c.data_cadastro, GETDATE()) < 30 THEN 'Ativo'\n",
    "        ELSE 'Inativo'\n",
    "    END AS status_cliente,\n",
    "    COUNT(*) AS numero_clientes\n",
    "FROM dim_cliente c\n",
    "GROUP BY \n",
    "    CASE \n",
    "        WHEN DATEDIFF(DAY, c.data_cadastro, GETDATE()) < 30 THEN 'Ativo'\n",
    "        ELSE 'Inativo'\n",
    "    END\n",
    "\"\"\"\n",
    "\n",
    "df_clientes_ativos = run_query(query_clientes_ativos)\n",
    "print(df_clientes_ativos)"
   ]
  },
  {
   "cell_type": "markdown",
   "id": "a3530efd",
   "metadata": {},
   "source": [
    "### Análise de Produtos"
   ]
  },
  {
   "cell_type": "markdown",
   "id": "0f378d68",
   "metadata": {},
   "source": [
    "#### Top 10 Produtos Mais Vendidos"
   ]
  },
  {
   "cell_type": "code",
   "execution_count": 28,
   "id": "01092132",
   "metadata": {},
   "outputs": [
    {
     "name": "stdout",
     "output_type": "stream",
     "text": [
      "                       nome_produto  quantidade_vendida\n",
      "0              Produto Explicabo et                 258\n",
      "1                  Produto Error ex                 249\n",
      "2        Produto Adipisci doloribus                 248\n",
      "3  Produto Explicabo necessitatibus                 239\n",
      "4                     Produto Id ad                 238\n",
      "5                    Produto A quam                 232\n",
      "6           Produto Incidunt magnam                 232\n",
      "7              Produto Dolore nulla                 226\n",
      "8            Produto Sed distinctio                 226\n",
      "9        Produto Perspiciatis ipsam                 225\n"
     ]
    }
   ],
   "source": [
    "query_top_produtos = \"\"\"\n",
    "SELECT TOP 10\n",
    "    p.nome_produto,\n",
    "    SUM(f.quantidade) AS quantidade_vendida\n",
    "FROM fato_vendas f\n",
    "JOIN dim_produto p ON f.produto_id = p.produto_id\n",
    "GROUP BY p.nome_produto\n",
    "ORDER BY quantidade_vendida DESC\n",
    "\"\"\"\n",
    "\n",
    "df_top_produtos = run_query(query_top_produtos)\n",
    "print(df_top_produtos)"
   ]
  },
  {
   "cell_type": "markdown",
   "id": "cdd2c7a8",
   "metadata": {},
   "source": [
    "#### Produtos por Categoria e SubCategoria"
   ]
  },
  {
   "cell_type": "code",
   "execution_count": 29,
   "id": "7b8bc5f3",
   "metadata": {},
   "outputs": [
    {
     "name": "stdout",
     "output_type": "stream",
     "text": [
      "   categoria_produto subcategoria_produto  numero_produtos\n",
      "0          Alimentos              Bebidas                5\n",
      "1          Alimentos           Congelados                5\n",
      "2          Alimentos       Não Perecíveis                5\n",
      "3          Alimentos           Perecíveis                5\n",
      "4             Beleza            Maquiagem                5\n",
      "5             Beleza  Cuidados com a Pele                5\n",
      "6             Beleza          Fragrâncias                5\n",
      "7             Beleza               Cabelo                5\n",
      "8         Brinquedos            Carrinhos                5\n",
      "9         Brinquedos              Bonecas                5\n",
      "10        Brinquedos           Educativos                5\n",
      "11        Brinquedos                Jogos                5\n",
      "12              Casa               Jardim                5\n",
      "13              Casa               Móveis                5\n",
      "14              Casa           Utensílios                5\n",
      "15              Casa            Decoração                5\n",
      "16       Eletrônicos                Áudio                5\n",
      "17       Eletrônicos          Smartphones                5\n",
      "18       Eletrônicos                  TVs                5\n",
      "19       Eletrônicos            Notebooks                5\n",
      "20          Esportes            Aquáticos                5\n",
      "21          Esportes             Ar Livre                5\n",
      "22          Esportes            Coletivos                5\n",
      "23          Esportes              Fitness                5\n",
      "24            Livros               Ficção                5\n",
      "25            Livros             Infantil                5\n",
      "26            Livros           Acadêmicos                5\n",
      "27            Livros           Não Ficção                5\n",
      "28            Roupas            Masculina                5\n",
      "29            Roupas             Infantil                5\n",
      "30            Roupas            Esportiva                5\n",
      "31            Roupas             Feminina                5\n"
     ]
    }
   ],
   "source": [
    "query_produtos_categoria = \"\"\"\n",
    "SELECT \n",
    "    p.categoria_produto,\n",
    "    p.subcategoria_produto,\n",
    "    COUNT(*) AS numero_produtos\n",
    "FROM dim_produto p\n",
    "GROUP BY p.categoria_produto, p.subcategoria_produto\n",
    "ORDER BY p.categoria_produto, numero_produtos DESC\n",
    "\"\"\"\n",
    "\n",
    "df_produtos_categoria = run_query(query_produtos_categoria)\n",
    "print(df_produtos_categoria)"
   ]
  },
  {
   "cell_type": "markdown",
   "id": "e7a8a610",
   "metadata": {},
   "source": [
    "### Análise de Canais de Vendas"
   ]
  },
  {
   "cell_type": "markdown",
   "id": "aa09c6e5",
   "metadata": {},
   "source": [
    "#### Vendas Por Canais de Vendas"
   ]
  },
  {
   "cell_type": "code",
   "execution_count": 30,
   "id": "93330dc0",
   "metadata": {},
   "outputs": [
    {
     "name": "stdout",
     "output_type": "stream",
     "text": [
      "   canal_venda  valor_total_vendas\n",
      "0  Marketplace          5521450.63\n",
      "1       Online          4065936.33\n",
      "2  Loja Física          3995776.57\n"
     ]
    }
   ],
   "source": [
    "query_vendas_canal = \"\"\"\n",
    "SELECT \n",
    "    l.canal_venda,\n",
    "    SUM(f.valor_total) AS valor_total_vendas\n",
    "FROM fato_vendas f\n",
    "JOIN dim_loja l ON f.loja_id = l.loja_id\n",
    "GROUP BY l.canal_venda\n",
    "ORDER BY valor_total_vendas DESC\n",
    "\"\"\"\n",
    "\n",
    "df_vendas_canal = run_query(query_vendas_canal)\n",
    "print(df_vendas_canal)"
   ]
  },
  {
   "cell_type": "markdown",
   "id": "b045a971",
   "metadata": {},
   "source": [
    "#### Vendas Por Método de Pagamento"
   ]
  },
  {
   "cell_type": "code",
   "execution_count": 31,
   "id": "fce396b3",
   "metadata": {},
   "outputs": [
    {
     "name": "stdout",
     "output_type": "stream",
     "text": [
      "  metodo_pagamento  numero_vendas  valor_total_vendas\n",
      "0           Boleto           3996          5522591.17\n",
      "1   Cartão Crédito           2945          3909999.89\n",
      "2              PIX           1991          2687894.52\n",
      "3    Cartão Débito           1068          1462677.95\n"
     ]
    }
   ],
   "source": [
    "query_vendas_pagamento = \"\"\"\n",
    "SELECT \n",
    "    l.metodo_pagamento,\n",
    "    COUNT(*) AS numero_vendas,\n",
    "    SUM(f.valor_total) AS valor_total_vendas\n",
    "FROM fato_vendas f\n",
    "JOIN dim_loja l ON f.loja_id = l.loja_id\n",
    "GROUP BY l.metodo_pagamento\n",
    "ORDER BY valor_total_vendas DESC\n",
    "\"\"\"\n",
    "\n",
    "df_vendas_pagamento = run_query(query_vendas_pagamento)\n",
    "print(df_vendas_pagamento)"
   ]
  },
  {
   "cell_type": "markdown",
   "id": "7ade8b51",
   "metadata": {},
   "source": [
    "### Análise de Sazonalidade"
   ]
  },
  {
   "cell_type": "markdown",
   "id": "a3cd219f",
   "metadata": {},
   "source": [
    "#### Vendas Por Dia da Semana"
   ]
  },
  {
   "cell_type": "code",
   "execution_count": 36,
   "id": "911f7a34",
   "metadata": {},
   "outputs": [
    {
     "name": "stdout",
     "output_type": "stream",
     "text": [
      "  dia_semana  valor_total_vendas\n",
      "0     Monday          1998817.09\n",
      "1    Tuesday          1940542.88\n",
      "2  Wednesday          1984900.57\n",
      "3   Thursday          1856496.07\n",
      "4     Friday          1897804.28\n",
      "5   Saturday          1913577.27\n",
      "6     Sunday          1991025.37\n"
     ]
    }
   ],
   "source": [
    "query_vendas_dia_semana = \"\"\"\n",
    "SELECT \n",
    "    t.dia_semana,\n",
    "    SUM(f.valor_total) AS valor_total_vendas\n",
    "FROM fato_vendas f\n",
    "JOIN dim_tempo t ON f.data_venda = t.data_venda\n",
    "GROUP BY t.dia_semana\n",
    "ORDER BY \n",
    "    CASE t.dia_semana\n",
    "        WHEN 'Monday' THEN 1\n",
    "        WHEN 'Tuesday' THEN 2\n",
    "        WHEN 'Wednesday' THEN 3\n",
    "        WHEN 'Thursday' THEN 4\n",
    "        WHEN 'Friday' THEN 5\n",
    "        WHEN 'Saturday' THEN 6\n",
    "        WHEN 'Sunday' THEN 7\n",
    "    END\n",
    "\"\"\"\n",
    "\n",
    "df_vendas_dia_semana = run_query(query_vendas_dia_semana)\n",
    "print(df_vendas_dia_semana)"
   ]
  },
  {
   "cell_type": "markdown",
   "id": "8a25cc8b",
   "metadata": {},
   "source": [
    "#### Vendas Por Mês"
   ]
  },
  {
   "cell_type": "code",
   "execution_count": 33,
   "id": "464b49fe",
   "metadata": {},
   "outputs": [
    {
     "name": "stdout",
     "output_type": "stream",
     "text": [
      "    mes  valor_total_vendas\n",
      "0     1          1087224.49\n",
      "1     2          1098514.05\n",
      "2     3          1092142.46\n",
      "3     4          1115339.26\n",
      "4     5          1124338.71\n",
      "5     6          1165658.55\n",
      "6     7          1152748.42\n",
      "7     8          1166010.46\n",
      "8     9          1037132.59\n",
      "9    10          1181778.22\n",
      "10   11          1176591.99\n",
      "11   12          1185684.33\n"
     ]
    }
   ],
   "source": [
    "query_vendas_mes = \"\"\"\n",
    "SELECT \n",
    "    t.mes,\n",
    "    SUM(f.valor_total) AS valor_total_vendas\n",
    "FROM fato_vendas f\n",
    "JOIN dim_tempo t ON f.data_venda = t.data_venda\n",
    "GROUP BY t.mes\n",
    "ORDER BY t.mes\n",
    "\"\"\"\n",
    "\n",
    "df_vendas_mes = run_query(query_vendas_mes)\n",
    "print(df_vendas_mes)"
   ]
  },
  {
   "cell_type": "markdown",
   "id": "6eb14e06",
   "metadata": {},
   "source": [
    "### Análise de Performance"
   ]
  },
  {
   "cell_type": "markdown",
   "id": "e7112bf9",
   "metadata": {},
   "source": [
    "#### Top 10 Clientes Por Valor Gasto"
   ]
  },
  {
   "cell_type": "code",
   "execution_count": 34,
   "id": "8b2cf086",
   "metadata": {},
   "outputs": [
    {
     "name": "stdout",
     "output_type": "stream",
     "text": [
      "   cliente_id                     nome  valor_total_gasto\n",
      "0         331        Stephany Siqueira           55401.57\n",
      "1         134        Ravi Lucca Vargas           50977.45\n",
      "2          95  Gustavo Henrique Farias           49771.55\n",
      "3         491             Sara Ribeiro           49163.19\n",
      "4         426               Noah Moura           49118.24\n",
      "5         220          Mirella Sampaio           47587.61\n",
      "6         483              Eloah Sousa           46373.29\n",
      "7         470     Ana Vitória Cassiano           46020.92\n",
      "8         101         Sra. Rebeca Rios           45961.34\n",
      "9         266                Léo Silva           45813.70\n"
     ]
    }
   ],
   "source": [
    "query_top_clientes = \"\"\"\n",
    "SELECT TOP 10\n",
    "    c.cliente_id,\n",
    "    c.nome,\n",
    "    SUM(f.valor_total) AS valor_total_gasto\n",
    "FROM fato_vendas f\n",
    "JOIN dim_cliente c ON f.cliente_id = c.cliente_id\n",
    "GROUP BY c.cliente_id, c.nome\n",
    "ORDER BY valor_total_gasto DESC\n",
    "\"\"\"\n",
    "\n",
    "df_top_clientes = run_query(query_top_clientes)\n",
    "print(df_top_clientes)"
   ]
  },
  {
   "cell_type": "markdown",
   "id": "c1742b7d",
   "metadata": {},
   "source": [
    "#### Margem de Lucro por Categoria de Produto"
   ]
  },
  {
   "cell_type": "code",
   "execution_count": 35,
   "id": "a021e677",
   "metadata": {},
   "outputs": [
    {
     "name": "stdout",
     "output_type": "stream",
     "text": [
      "  categoria_produto  lucro_total\n",
      "0            Beleza    824260.76\n",
      "1         Alimentos    797222.35\n",
      "2       Eletrônicos    780693.74\n",
      "3        Brinquedos    773323.36\n",
      "4            Livros    721656.53\n",
      "5              Casa    708412.15\n",
      "6          Esportes    703898.88\n",
      "7            Roupas    651659.62\n"
     ]
    }
   ],
   "source": [
    "query_margem_categoria = \"\"\"\n",
    "SELECT \n",
    "    p.categoria_produto,\n",
    "    SUM(f.valor_total - (f.quantidade * p.custo)) AS lucro_total\n",
    "FROM fato_vendas f\n",
    "JOIN dim_produto p ON f.produto_id = p.produto_id\n",
    "GROUP BY p.categoria_produto\n",
    "ORDER BY lucro_total DESC\n",
    "\"\"\"\n",
    "\n",
    "df_margem_categoria = run_query(query_margem_categoria)\n",
    "print(df_margem_categoria)"
   ]
  },
  {
   "cell_type": "code",
   "execution_count": null,
   "id": "4909bb57",
   "metadata": {},
   "outputs": [],
   "source": []
  }
 ],
 "metadata": {
  "kernelspec": {
   "display_name": "Python 3",
   "language": "python",
   "name": "python3"
  },
  "language_info": {
   "codemirror_mode": {
    "name": "ipython",
    "version": 3
   },
   "file_extension": ".py",
   "mimetype": "text/x-python",
   "name": "python",
   "nbconvert_exporter": "python",
   "pygments_lexer": "ipython3",
   "version": "3.13.2"
  }
 },
 "nbformat": 4,
 "nbformat_minor": 5
}
