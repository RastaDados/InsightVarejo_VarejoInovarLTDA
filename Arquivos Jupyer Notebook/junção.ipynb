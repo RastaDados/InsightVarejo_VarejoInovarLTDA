{
 "cells": [
  {
   "cell_type": "code",
   "execution_count": null,
   "id": "a5c3442c",
   "metadata": {},
   "outputs": [],
   "source": [
    "import pandas as pd\n",
    "\n",
    "#Carregando os arquivos\n",
    "clientes = pd.read_csv('dados/dados_clientes.csv')\n",
    "produtos = pd.read_csv('dados/dados_produtos.csv')\n",
    "vendas = pd.read_csv('dados/dados_vendas.csv')\n",
    "\n",
    "#Renoemando as colunas pra não dar b.o no merge\n",
    "produtos.rename(columns={'nome': 'nome_produto', 'categoria': 'categoria_produto', 'subcategoria': 'subcategoria_produto'}, inplace=True)\n",
    "\n",
    "#Realizando o merge entre vendas e clientes\n",
    "vendas_clientes = pd.merge(vendas, clientes, on='cliente_id', how='left')\n",
    "\n",
    "#Realizando o merge entre o resultado anterior e produtos\n",
    "vendas_clientes_produtos = pd.merge(vendas_clientes, produtos, on='produto_id', how='left')\n",
    "\n",
    "#Salvo o dataframe depois do merge em um CSV\n",
    "vendas_clientes_produtos.to_csv('dados/dados_merge.csv', index=False)"
   ]
  },
  {
   "cell_type": "code",
   "execution_count": null,
   "id": "cfd63720",
   "metadata": {},
   "outputs": [],
   "source": []
  }
 ],
 "metadata": {
  "kernelspec": {
   "display_name": "Python 3",
   "language": "python",
   "name": "python3"
  },
  "language_info": {
   "codemirror_mode": {
    "name": "ipython",
    "version": 3
   },
   "file_extension": ".py",
   "mimetype": "text/x-python",
   "name": "python",
   "nbconvert_exporter": "python",
   "pygments_lexer": "ipython3",
   "version": "3.13.2"
  }
 },
 "nbformat": 4,
 "nbformat_minor": 5
}
